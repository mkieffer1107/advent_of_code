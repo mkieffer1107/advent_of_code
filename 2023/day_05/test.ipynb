{
 "cells": [
  {
   "cell_type": "code",
   "execution_count": 9,
   "metadata": {},
   "outputs": [
    {
     "name": "stdout",
     "output_type": "stream",
     "text": [
      "1 2\n",
      "2 3\n",
      "3 4\n",
      "4 6\n"
     ]
    }
   ],
   "source": [
    "lst = [1, 2, 3, 4, 6]\n",
    "\n",
    "for i, j in zip(lst, lst[1:]):\n",
    "    print(i, j)"
   ]
  },
  {
   "cell_type": "code",
   "execution_count": 10,
   "metadata": {},
   "outputs": [
    {
     "name": "stdout",
     "output_type": "stream",
     "text": [
      "1 3\n",
      "2 4\n",
      "3 6\n"
     ]
    }
   ],
   "source": [
    "lst = [1, 2, 3, 4, 6]\n",
    "\n",
    "for i, j in zip(lst, lst[2:]):\n",
    "    print(i, j)"
   ]
  },
  {
   "cell_type": "code",
   "execution_count": 11,
   "metadata": {},
   "outputs": [
    {
     "name": "stdout",
     "output_type": "stream",
     "text": [
      "1 2\n",
      "3 4\n"
     ]
    }
   ],
   "source": [
    "lst = [1, 2, 3, 4, 6]\n",
    "\n",
    "for i, j in list(zip(lst, lst[1:]))[::2]:\n",
    "    print(i, j)"
   ]
  },
  {
   "cell_type": "code",
   "execution_count": 12,
   "metadata": {},
   "outputs": [],
   "source": [
    "def has_intersection(r1, r2):\n",
    "    '''r1 and r2 are intervals of form [start, end)'''\n",
    "    start1, end1 = r1   # s1 -- e1\n",
    "    start2, end2 = r2   # s2 -- e2\n",
    "\n",
    "    # s1 <= s2 <= e1: s1 -- s2 -- e1 -- e2\n",
    "    if start1 <= start2 <= end1:\n",
    "        return True\n",
    "    \n",
    "    # s2 <= s1 <= e2: s2 -- s1 -- e2 -- e1\n",
    "    if start2 <= start1 <= end2:\n",
    "        return True\n",
    "    \n",
    "    return False"
   ]
  },
  {
   "cell_type": "code",
   "execution_count": 13,
   "metadata": {},
   "outputs": [],
   "source": [
    "def has_intersection(r1, r2):\n",
    "    '''r1 and r2 are intervals of form [start, end)'''\n",
    "    start1, end1 = r1   # s1 -- e1\n",
    "    start2, end2 = r2   # s2 -- e2\n",
    "\n",
    "    # s1 -- s2 -- e2 -- e1\n",
    "    # s2 -- s1 -- e1 -- e2\n",
    "    return start1 <= end2 and start2 <= end1\n",
    "\n",
    "def get_intersection(r1, r2):\n",
    "    '''r1 and r2 are intervals of form [start, end)'''\n",
    "    start1, end1 = r1   # s1 -- e1\n",
    "    start2, end2 = r2   # s2 -- e2\n",
    "\n",
    "    if has_intersection(r1, r2):\n",
    "        new_start = max(start1, start2) \n",
    "        new_end = min(end1, end2)\n",
    "        return [new_start, new_end]\n",
    "    else: \n",
    "        return None\n",
    "\n",
    "def get_intersection(r1, r2):\n",
    "    '''r1 and r2 are intervals of form [start, end)'''\n",
    "    start1, end1 = r1   # s1 -- e1\n",
    "    start2, end2 = r2   # s2 -- e2\n",
    "\n",
    "    new_start = max(start1, start2) \n",
    "    new_end = min(end1, end2)\n",
    "\n",
    "    if new_end <= new_start:\n",
    "        return None\n",
    "    else:\n",
    "        return (new_start, new_end)"
   ]
  },
  {
   "cell_type": "code",
   "execution_count": 14,
   "metadata": {},
   "outputs": [
    {
     "data": {
      "text/plain": [
       "(4, 10)"
      ]
     },
     "execution_count": 14,
     "metadata": {},
     "output_type": "execute_result"
    }
   ],
   "source": [
    "r1 = [3, 10]\n",
    "r2 = [4, 42]\n",
    "get_intersection(r1, r2)"
   ]
  },
  {
   "cell_type": "code",
   "execution_count": null,
   "metadata": {},
   "outputs": [],
   "source": []
  }
 ],
 "metadata": {
  "kernelspec": {
   "display_name": "EEL5840",
   "language": "python",
   "name": "python3"
  },
  "language_info": {
   "codemirror_mode": {
    "name": "ipython",
    "version": 3
   },
   "file_extension": ".py",
   "mimetype": "text/x-python",
   "name": "python",
   "nbconvert_exporter": "python",
   "pygments_lexer": "ipython3",
   "version": "3.11.4"
  }
 },
 "nbformat": 4,
 "nbformat_minor": 2
}
