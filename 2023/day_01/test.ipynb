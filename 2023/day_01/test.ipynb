{
 "cells": [
  {
   "cell_type": "code",
   "execution_count": 6,
   "metadata": {},
   "outputs": [],
   "source": [
    "def forward(word):\n",
    "    for i in range(len(word)):\n",
    "        substr = word[:i+1]\n",
    "        print(i, substr)\n",
    "    \n",
    "def backward(word):\n",
    "    for i in range(len(word))[::-1]:\n",
    "        substr = word[i:]\n",
    "        print(i, substr)"
   ]
  },
  {
   "cell_type": "code",
   "execution_count": 7,
   "metadata": {},
   "outputs": [
    {
     "name": "stdout",
     "output_type": "stream",
     "text": [
      "0 h\n",
      "1 he\n",
      "2 hel\n",
      "3 hell\n",
      "4 hello\n",
      "4 o\n",
      "3 lo\n",
      "2 llo\n",
      "1 ello\n",
      "0 hello\n"
     ]
    }
   ],
   "source": [
    "word = \"hello\"\n",
    "forward(word)\n",
    "backward(word)"
   ]
  },
  {
   "cell_type": "code",
   "execution_count": 12,
   "metadata": {},
   "outputs": [
    {
     "name": "stdout",
     "output_type": "stream",
     "text": [
      "o\n",
      "lo\n",
      "llo\n",
      "ello\n",
      "hello\n"
     ]
    }
   ],
   "source": [
    "for i in range(len(word))[::-1]:\n",
    "    print(word[i])"
   ]
  },
  {
   "cell_type": "code",
   "execution_count": null,
   "metadata": {},
   "outputs": [],
   "source": []
  }
 ],
 "metadata": {
  "kernelspec": {
   "display_name": "EEL5840",
   "language": "python",
   "name": "python3"
  },
  "language_info": {
   "codemirror_mode": {
    "name": "ipython",
    "version": 3
   },
   "file_extension": ".py",
   "mimetype": "text/x-python",
   "name": "python",
   "nbconvert_exporter": "python",
   "pygments_lexer": "ipython3",
   "version": "3.11.4"
  }
 },
 "nbformat": 4,
 "nbformat_minor": 2
}
